{
 "cells": [
  {
   "cell_type": "code",
   "execution_count": 6,
   "metadata": {},
   "outputs": [],
   "source": [
    "%matplotlib inline\n",
    "# Change data_home to wherever to where you want to download your data\n",
    "from sklearn.datasets import fetch_openml\n",
    "mnist = fetch_openml(\"mnist_784\")"
   ]
  },
  {
   "cell_type": "code",
   "execution_count": 7,
   "metadata": {},
   "outputs": [
    {
     "name": "stdout",
     "output_type": "stream",
     "text": [
      "Image Data Shape (70000, 784)\n",
      "Label Data Shape (70000,)\n"
     ]
    }
   ],
   "source": [
    "# Print to show there are 1797 images (8 by 8 images for a dimensionality of 64)\n",
    "print(\"Image Data Shape\" , mnist.data.shape)\n",
    "\n",
    "# Print to show there are 1797 labels (integers from 0-9)\n",
    "print(\"Label Data Shape\", mnist.target.shape)"
   ]
  },
  {
   "cell_type": "code",
   "execution_count": 35,
   "metadata": {},
   "outputs": [
    {
     "data": {
      "text/plain": [
       "'5'"
      ]
     },
     "execution_count": 35,
     "metadata": {},
     "output_type": "execute_result"
    }
   ],
   "source": [
    "mnist.target[0]"
   ]
  },
  {
   "cell_type": "code",
   "execution_count": 41,
   "metadata": {},
   "outputs": [],
   "source": [
    "test3Img=[]\n",
    "test5Img=[]\n",
    "training3Img=[]\n",
    "training5Img=[]\n",
    "test3lbl=[]\n",
    "test5lbl=[]\n",
    "training3lbl=[]\n",
    "training5lbl=[]"
   ]
  },
  {
   "cell_type": "code",
   "execution_count": 59,
   "metadata": {},
   "outputs": [],
   "source": [
    "test3=[]\n",
    "test5=[]\n",
    "training3=[]\n",
    "training5=[]\n",
    "test3lbl=[]\n",
    "test5lbl=[]\n",
    "training3lbl=[]\n",
    "training5lbl=[]\n",
    "\n",
    "for i in range(0, len(mnist.target)):\n",
    "    if len(test3)<400 or len(test5)<400 or len(training3)<400 or len(training5) <400:\n",
    "        if mnist.target[i]==\"3\":\n",
    "            if len(training3)<400:\n",
    "                training3.append(mnist.data[i])\n",
    "                training3lbl.append(mnist.target[i])\n",
    "            else:\n",
    "                if len(test3)<400:\n",
    "                    test3.append(mnist.data[i])\n",
    "                    test3lbl.append(mnist.target[i])\n",
    "        else:\n",
    "            if mnist.target[i]==\"5\":\n",
    "                if len(training5)<400:\n",
    "                    training5.append(mnist.data[i])\n",
    "                    training5lbl.append(mnist.target[i])\n",
    "            else:\n",
    "                if len(test5)<400:\n",
    "                    test5.append(mnist.data[i])\n",
    "                    test5lbl.append(mnist.target[i])\n",
    "    else:\n",
    "        break\n",
    "train_img = training3+training5\n",
    "test_img = test3+test5\n",
    "train_lbl = training3lbl + training5lbl\n",
    "test_lbl = test3lbl+test5lbl\n",
    "    "
   ]
  },
  {
   "cell_type": "code",
   "execution_count": 60,
   "metadata": {},
   "outputs": [
    {
     "data": {
      "text/plain": [
       "400"
      ]
     },
     "execution_count": 60,
     "metadata": {},
     "output_type": "execute_result"
    }
   ],
   "source": [
    "len(test5lbl)\n"
   ]
  },
  {
   "cell_type": "code",
   "execution_count": 67,
   "metadata": {},
   "outputs": [],
   "source": [
    "from sklearn.linear_model import LogisticRegression\n",
    "logisticRegr = LogisticRegression(solver = 'liblinear')"
   ]
  },
  {
   "cell_type": "code",
   "execution_count": 68,
   "metadata": {},
   "outputs": [
    {
     "data": {
      "text/plain": [
       "LogisticRegression(solver='liblinear')"
      ]
     },
     "execution_count": 68,
     "metadata": {},
     "output_type": "execute_result"
    }
   ],
   "source": [
    "logisticRegr.fit(train_img, train_lbl)"
   ]
  },
  {
   "cell_type": "code",
   "execution_count": 69,
   "metadata": {},
   "outputs": [],
   "source": [
    "predictions = logisticRegr.predict(test_img)"
   ]
  },
  {
   "cell_type": "code",
   "execution_count": 70,
   "metadata": {},
   "outputs": [
    {
     "data": {
      "text/plain": [
       "array(['3', '3', '3', '3', '3', '5', '3', '3', '3', '3', '3', '3', '3',\n",
       "       '3', '3', '3', '3', '3', '3', '3', '3', '3', '3', '3', '3', '3',\n",
       "       '3', '3', '3', '3', '3', '3', '3', '3', '3', '3', '5', '3', '3',\n",
       "       '3', '3', '3', '3', '3', '3', '3', '3', '3', '3', '3', '3', '3',\n",
       "       '3', '3', '3', '5', '3', '3', '5', '3', '3', '3', '3', '5', '3',\n",
       "       '3', '3', '3', '3', '3', '3', '3', '3', '3', '3', '3', '5', '3',\n",
       "       '3', '3', '3', '3', '3', '3', '3', '3', '3', '3', '3', '3', '3',\n",
       "       '3', '3', '3', '3', '3', '3', '3', '3', '3', '3', '3', '3', '3',\n",
       "       '3', '3', '3', '3', '3', '3', '3', '3', '3', '3', '3', '3', '3',\n",
       "       '3', '3', '3', '3', '3', '3', '3', '3', '3', '3', '3', '3', '3',\n",
       "       '3', '5', '3', '3', '3', '3', '3', '3', '3', '3', '3', '3', '3',\n",
       "       '3', '3', '3', '3', '3', '3', '3', '3', '3', '3', '3', '3', '3',\n",
       "       '3', '3', '3', '3', '3', '3', '3', '3', '3', '3', '3', '3', '3',\n",
       "       '3', '3', '3', '3', '3', '3', '3', '3', '3', '3', '3', '3', '3',\n",
       "       '3', '3', '5', '3', '3', '3', '3', '3', '3', '3', '3', '3', '3',\n",
       "       '3', '3', '3', '3', '3', '3', '3', '3', '3', '3', '3', '3', '3',\n",
       "       '3', '3', '3', '3', '3', '3', '3', '3', '3', '3', '3', '3', '3',\n",
       "       '5', '5', '3', '3', '3', '3', '3', '3', '3', '5', '5', '3', '3',\n",
       "       '5', '3', '3', '3', '3', '3', '3', '3', '3', '3', '3', '3', '3',\n",
       "       '3', '3', '3', '3', '3', '3', '3', '3', '3', '5', '3', '3', '3',\n",
       "       '3', '3', '3', '3', '3', '3', '3', '3', '3', '3', '3', '3', '3',\n",
       "       '3', '3', '3', '3', '3', '3', '3', '3', '3', '3', '3', '3', '3',\n",
       "       '5', '3', '5', '5', '5', '3', '3', '3', '3', '5', '3', '3', '3',\n",
       "       '3', '5', '3', '3', '3', '3', '3', '3', '3', '3', '3', '3', '5',\n",
       "       '3', '3', '3', '3', '3', '3', '3', '3', '3', '3', '3', '5', '3',\n",
       "       '3', '3', '3', '3', '3', '3', '3', '3', '3', '3', '3', '3', '3',\n",
       "       '3', '3', '3', '3', '3', '3', '3', '3', '3', '3', '3', '3', '3',\n",
       "       '3', '3', '3', '3', '3', '3', '3', '3', '3', '3', '3', '3', '3',\n",
       "       '3', '3', '3', '3', '5', '3', '3', '3', '3', '3', '3', '3', '3',\n",
       "       '3', '3', '5', '3', '3', '5', '3', '3', '3', '3', '3', '5', '3',\n",
       "       '3', '3', '3', '3', '5', '3', '3', '3', '3', '3', '5', '3', '3',\n",
       "       '3', '5', '3', '5', '5', '5', '5', '5', '3', '3', '5', '3', '3',\n",
       "       '5', '3', '3', '3', '3', '3', '3', '3', '3', '5', '3', '5', '5',\n",
       "       '5', '3', '5', '3', '3', '3', '3', '3', '5', '5', '5', '3', '3',\n",
       "       '5', '5', '5', '3', '3', '3', '5', '3', '5', '5', '5', '5', '3',\n",
       "       '5', '5', '5', '3', '3', '3', '3', '3', '3', '3', '3', '5', '5',\n",
       "       '3', '5', '3', '3', '3', '5', '5', '5', '5', '3', '5', '5', '5',\n",
       "       '3', '3', '3', '3', '5', '5', '5', '3', '5', '5', '5', '3', '3',\n",
       "       '3', '5', '5', '3', '3', '5', '5', '3', '5', '3', '5', '3', '5',\n",
       "       '5', '5', '3', '3', '5', '3', '3', '3', '5', '3', '3', '5', '3',\n",
       "       '3', '5', '5', '5', '3', '5', '3', '3', '5', '5', '5', '5', '3',\n",
       "       '5', '3', '3', '3', '3', '5', '5', '5', '3', '5', '3', '3', '5',\n",
       "       '3', '3', '3', '5', '3', '3', '3', '5', '3', '3', '5', '5', '3',\n",
       "       '5', '5', '3', '3', '3', '3', '3', '5', '3', '3', '5', '3', '5',\n",
       "       '3', '5', '5', '3', '5', '3', '3', '5', '5', '3', '3', '5', '3',\n",
       "       '3', '5', '5', '3', '5', '5', '5', '3', '5', '5', '5', '3', '5',\n",
       "       '3', '5', '5', '3', '5', '5', '3', '5', '3', '3', '5', '3', '5',\n",
       "       '3', '5', '5', '5', '5', '3', '3', '3', '3', '3', '3', '3', '5',\n",
       "       '3', '5', '3', '3', '3', '3', '5', '5', '5', '3', '5', '3', '3',\n",
       "       '5', '3', '3', '5', '5', '5', '3', '5', '5', '5', '3', '5', '3',\n",
       "       '3', '3', '3', '5', '5', '3', '5', '3', '5', '5', '3', '5', '3',\n",
       "       '5', '3', '5', '5', '5', '5', '3', '3', '3', '5', '5', '3', '3',\n",
       "       '3', '3', '5', '3', '3', '5', '3', '5', '3', '3', '5', '3', '5',\n",
       "       '3', '3', '5', '5', '3', '5', '3', '5', '3', '5', '5', '3', '5',\n",
       "       '3', '5', '3', '5', '3', '5', '5', '3', '3', '5', '3', '3', '3',\n",
       "       '3', '3', '3', '5', '5', '3', '3', '3', '3', '5', '5', '3', '5',\n",
       "       '5', '3', '5', '5', '3', '5', '3', '3', '3', '5', '5', '5', '3',\n",
       "       '5', '3', '5', '3', '5', '3', '3', '3', '5', '5', '3', '5', '5',\n",
       "       '5', '3', '3', '5', '3', '3', '3', '5', '5', '5', '3', '3', '3',\n",
       "       '5', '3', '3', '5', '3', '5', '5', '3', '3', '5', '3', '5', '3',\n",
       "       '5', '5', '3', '5', '3', '3', '5', '5', '5', '3', '3', '5', '3',\n",
       "       '5', '5', '3', '5', '3', '3', '3'], dtype='<U1')"
      ]
     },
     "execution_count": 70,
     "metadata": {},
     "output_type": "execute_result"
    }
   ],
   "source": [
    "predictions"
   ]
  },
  {
   "cell_type": "code",
   "execution_count": 71,
   "metadata": {},
   "outputs": [],
   "source": [
    "count=0\n",
    "for i in range(0,800):\n",
    "    if predictions[i]!=test_lbl[i]:\n",
    "        count=count+1\n",
    "misClassification = count/800"
   ]
  },
  {
   "cell_type": "markdown",
   "metadata": {},
   "source": [
    "misClassification"
   ]
  },
  {
   "cell_type": "code",
   "execution_count": 72,
   "metadata": {},
   "outputs": [
    {
     "data": {
      "text/plain": [
       "0.53375"
      ]
     },
     "execution_count": 72,
     "metadata": {},
     "output_type": "execute_result"
    }
   ],
   "source": [
    "misClassification"
   ]
  },
  {
   "cell_type": "code",
   "execution_count": 75,
   "metadata": {},
   "outputs": [
    {
     "data": {
      "text/plain": [
       "0.53125"
      ]
     },
     "execution_count": 75,
     "metadata": {},
     "output_type": "execute_result"
    }
   ],
   "source": [
    " logisticRegr = LogisticRegression(solver = 'liblinear',penalty=\"l1\")\n",
    "logisticRegr.fit(train_img, train_lbl)\n",
    "predictions = logisticRegr.predict(test_img)\n",
    "count=0\n",
    "for i in range(0,800):\n",
    "    if predictions[i]!=test_lbl[i]:\n",
    "        count=count+1\n",
    "misClassification = count/800\n",
    "misClassification"
   ]
  },
  {
   "cell_type": "code",
   "execution_count": 78,
   "metadata": {},
   "outputs": [
    {
     "ename": "NameError",
     "evalue": "name 'SVC' is not defined",
     "output_type": "error",
     "traceback": [
      "\u001b[1;31m---------------------------------------------------------------------------\u001b[0m",
      "\u001b[1;31mNameError\u001b[0m                                 Traceback (most recent call last)",
      "\u001b[1;32m<ipython-input-78-42c8aa88a50c>\u001b[0m in \u001b[0;36m<module>\u001b[1;34m\u001b[0m\n\u001b[1;32m----> 1\u001b[1;33m \u001b[0msteps\u001b[0m \u001b[1;33m=\u001b[0m \u001b[1;33m[\u001b[0m\u001b[1;33m(\u001b[0m\u001b[1;34m'SVM'\u001b[0m\u001b[1;33m,\u001b[0m \u001b[0mSVC\u001b[0m\u001b[1;33m(\u001b[0m\u001b[0mkernel\u001b[0m\u001b[1;33m=\u001b[0m\u001b[1;34m'poly'\u001b[0m\u001b[1;33m)\u001b[0m\u001b[1;33m)\u001b[0m\u001b[1;33m]\u001b[0m\u001b[1;33m\u001b[0m\u001b[1;33m\u001b[0m\u001b[0m\n\u001b[0m\u001b[0;32m      2\u001b[0m \u001b[0mpipeline\u001b[0m \u001b[1;33m=\u001b[0m \u001b[0mPipeline\u001b[0m\u001b[1;33m(\u001b[0m\u001b[0msteps\u001b[0m\u001b[1;33m)\u001b[0m \u001b[1;31m# define Pipeline object\u001b[0m\u001b[1;33m\u001b[0m\u001b[1;33m\u001b[0m\u001b[0m\n\u001b[0;32m      3\u001b[0m \u001b[0mparameters\u001b[0m \u001b[1;33m=\u001b[0m \u001b[1;33m{\u001b[0m\u001b[1;34m'SVM__C'\u001b[0m\u001b[1;33m:\u001b[0m\u001b[1;33m[\u001b[0m\u001b[1;36m0.001\u001b[0m\u001b[1;33m,\u001b[0m \u001b[1;36m0.1\u001b[0m\u001b[1;33m,\u001b[0m \u001b[1;36m100\u001b[0m\u001b[1;33m,\u001b[0m \u001b[1;36m10e5\u001b[0m\u001b[1;33m]\u001b[0m\u001b[1;33m,\u001b[0m \u001b[1;34m'SVM__gamma'\u001b[0m\u001b[1;33m:\u001b[0m\u001b[1;33m[\u001b[0m\u001b[1;36m10\u001b[0m\u001b[1;33m,\u001b[0m\u001b[1;36m1\u001b[0m\u001b[1;33m,\u001b[0m\u001b[1;36m0.1\u001b[0m\u001b[1;33m,\u001b[0m\u001b[1;36m0.01\u001b[0m\u001b[1;33m]\u001b[0m\u001b[1;33m}\u001b[0m\u001b[1;33m\u001b[0m\u001b[1;33m\u001b[0m\u001b[0m\n\u001b[0;32m      4\u001b[0m \u001b[0mgrid\u001b[0m \u001b[1;33m=\u001b[0m \u001b[0mGridSearchCV\u001b[0m\u001b[1;33m(\u001b[0m\u001b[0mpipeline\u001b[0m\u001b[1;33m,\u001b[0m \u001b[0mparam_grid\u001b[0m\u001b[1;33m=\u001b[0m\u001b[0mparameters\u001b[0m\u001b[1;33m,\u001b[0m \u001b[0mcv\u001b[0m\u001b[1;33m=\u001b[0m\u001b[1;36m5\u001b[0m\u001b[1;33m)\u001b[0m\u001b[1;33m\u001b[0m\u001b[1;33m\u001b[0m\u001b[0m\n\u001b[0;32m      5\u001b[0m \u001b[0mgrid\u001b[0m\u001b[1;33m.\u001b[0m\u001b[0mfit\u001b[0m\u001b[1;33m(\u001b[0m\u001b[0mtrain_img\u001b[0m\u001b[1;33m,\u001b[0m \u001b[0mtrain_lbl\u001b[0m\u001b[1;33m)\u001b[0m\u001b[1;33m\u001b[0m\u001b[1;33m\u001b[0m\u001b[0m\n",
      "\u001b[1;31mNameError\u001b[0m: name 'SVC' is not defined"
     ]
    }
   ],
   "source": [
    "steps = [('SVM', SVC(kernel='poly'))]\n",
    "pipeline = Pipeline(steps) # define Pipeline object\n",
    "parameters = {'SVM__C':[0.001, 0.1, 100, 10e5], 'SVM__gamma':[10,1,0.1,0.01]}\n",
    "grid = GridSearchCV(pipeline, param_grid=parameters, cv=5)\n",
    "grid.fit(train_img, train_lbl)\n",
    "y_pred = grid.predict(test_img)"
   ]
  },
  {
   "cell_type": "code",
   "execution_count": null,
   "metadata": {},
   "outputs": [],
   "source": []
  }
 ],
 "metadata": {
  "kernelspec": {
   "display_name": "Python 3",
   "language": "python",
   "name": "python3"
  },
  "language_info": {
   "codemirror_mode": {
    "name": "ipython",
    "version": 3
   },
   "file_extension": ".py",
   "mimetype": "text/x-python",
   "name": "python",
   "nbconvert_exporter": "python",
   "pygments_lexer": "ipython3",
   "version": "3.7.6"
  }
 },
 "nbformat": 4,
 "nbformat_minor": 4
}
