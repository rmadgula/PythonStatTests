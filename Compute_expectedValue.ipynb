{
 "cells": [
  {
   "cell_type": "code",
   "execution_count": 37,
   "metadata": {},
   "outputs": [],
   "source": [
    "import numpy as np\n",
    "from numpy import random\n",
    "%matplotlib inline\n",
    "import matplotlib.pyplot as plt\n",
    "import time"
   ]
  },
  {
   "cell_type": "code",
   "execution_count": 38,
   "metadata": {},
   "outputs": [],
   "source": [
    "def funcComputedIntegral(t,y):\n",
    "    if(t>1):\n",
    "        nr = (1+np.exp(2*t) + np.sin(np.exp(t)))\n",
    "        nr = np.power(nr,(-(np.abs(y))**3)-2)\n",
    "        dr = np.exp((t**2+y**2)*-0.5)\n",
    "        return nr/dr\n",
    "    else:\n",
    "        return 0\n",
    "\n"
   ]
  },
  {
   "cell_type": "code",
   "execution_count": 42,
   "metadata": {},
   "outputs": [],
   "source": [
    "def BoxMullerIntegration():\n",
    "    i=0\n",
    "    X1=[]\n",
    "    X2=[]\n",
    "    while i < 1000:\n",
    "        u1 = random.uniform(0,1)\n",
    "        u2 = random.uniform(0,1)\n",
    "        X1.append(np.sqrt(-2*np.log(u1))*np.cos(2*np.pi*u2))\n",
    "        X2.append(np.sqrt(-2*np.log(u1))*np.sin(2*np.pi*u2))\n",
    "        i=i+1\n",
    "    return X1,X2\n",
    "\n",
    "    \n",
    "tarray,yarray = BoxMullerIntegration()\n",
    "count=0\n",
    "mcCount=0\n",
    "IntegralValues = []\n",
    "while mcCount<1000:\n",
    "    while count < len(tarray):\n",
    "        sumCOmputed = IntegralValues.append(funcComputedIntegral(tarray[count],yarray[count])/len(tarray))\n",
    "        count=count+1\n",
    "    mcCount+=1\n",
    "\n",
    "    \n",
    "IntegralValue = np.mean(IntegralValues)\n",
    "\n",
    "\n",
    "\n",
    "    \n",
    "    \n",
    "    \n",
    "\n"
   ]
  },
  {
   "cell_type": "code",
   "execution_count": 43,
   "metadata": {},
   "outputs": [
    {
     "data": {
      "text/plain": [
       "8.066312216608053e-07"
      ]
     },
     "execution_count": 43,
     "metadata": {},
     "output_type": "execute_result"
    }
   ],
   "source": [
    "IntegralValue"
   ]
  },
  {
   "cell_type": "code",
   "execution_count": null,
   "metadata": {},
   "outputs": [],
   "source": []
  }
 ],
 "metadata": {
  "kernelspec": {
   "display_name": "Python 3",
   "language": "python",
   "name": "python3"
  },
  "language_info": {
   "codemirror_mode": {
    "name": "ipython",
    "version": 3
   },
   "file_extension": ".py",
   "mimetype": "text/x-python",
   "name": "python",
   "nbconvert_exporter": "python",
   "pygments_lexer": "ipython3",
   "version": "3.7.6"
  }
 },
 "nbformat": 4,
 "nbformat_minor": 4
}
