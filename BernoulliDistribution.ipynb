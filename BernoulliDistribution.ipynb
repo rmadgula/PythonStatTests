{
 "cells": [
  {
   "cell_type": "code",
   "execution_count": 7,
   "metadata": {},
   "outputs": [],
   "source": [
    "import numpy as np\n",
    "import seaborn as sns\n",
    "import matplotlib.pyplot as plt\n",
    "from numpy import random"
   ]
  },
  {
   "cell_type": "code",
   "execution_count": 11,
   "metadata": {},
   "outputs": [
    {
     "data": {
      "text/plain": [
       "(array([70., 30.]), array([0. , 0.5, 1. ]), <a list of 2 Patch objects>)"
      ]
     },
     "execution_count": 11,
     "metadata": {},
     "output_type": "execute_result"
    },
    {
     "data": {
      "image/png": "[encoded data removed]",
      "text/plain": [
       "<Figure size 432x288 with 1 Axes>"
      ]
     },
     "metadata": {
      "needs_background": "light"
     },
     "output_type": "display_data"
    }
   ],
   "source": [
    "#Trying to simulate 100 Bernoulli(p) samples, here p=0.24 , probability of success\n",
    "def BernoulliDist(p):\n",
    "    i=0\n",
    "    x=[]\n",
    "    while i < 100:\n",
    "        u = random.uniform(0,1)\n",
    "        if u <= p:\n",
    "            x.append(1) \n",
    "        else:\n",
    "            x.append(0)\n",
    "        i+=1\n",
    "    return x\n",
    "\n",
    "\n",
    "\n",
    "sns.distplot(BernoulliDist(0.24),bins=2,kde=False)\n",
    "#plt.hist(BernoulliDist(0.24),bins=2)\n",
    "\n",
    "\n",
    "\n",
    "\n"
   ]
  },
  {
   "cell_type": "code",
   "execution_count": null,
   "metadata": {},
   "outputs": [],
   "source": []
  }
 ],
 "metadata": {
  "kernelspec": {
   "display_name": "Python 3",
   "language": "python",
   "name": "python3"
  },
  "language_info": {
   "codemirror_mode": {
    "name": "ipython",
    "version": 3
   },
   "file_extension": ".py",
   "mimetype": "text/x-python",
   "name": "python",
   "nbconvert_exporter": "python",
   "pygments_lexer": "ipython3",
   "version": "3.7.6"
  }
 },
 "nbformat": 4,
 "nbformat_minor": 4
}
